{
 "cells": [
  {
   "cell_type": "code",
   "execution_count": 35,
   "metadata": {},
   "outputs": [],
   "source": [
    "import numpy as np\n",
    "import networkx as nx\n",
    "import matplotlib.pyplot as plt\n",
    "import plotly.graph_objects as go\n",
    "import dash\n",
    "import dash_core_components as dcc\n",
    "import dash_html_components as html\n",
    "from dash.dependencies import Input, Output, State\n",
    "from jupyter_dash import JupyterDash\n",
    "import scipy.stats as ss\n",
    "\n",
    "import networkx as nx\n",
    "import numpy as np\n",
    "import pandas as pd\n",
    "from tqdm import tqdm\n",
    "\n",
    "def draw_nx_nodes(g, pos, color_map=None):\n",
    "    if not color_map is None:\n",
    "        nx.draw_networkx_nodes(g, pos=pos, node_color=color_map,\n",
    "                         alpha=0.4, node_size=125)\n",
    "    else:\n",
    "        nx.draw_networkx_nodes(g, pos=pos, \n",
    "                         alpha=0.4, node_size=125)\n",
    "\n",
    "\n",
    "def draw_nx_edges(g, pos, dynamic_width=False):\n",
    "    edges = g.edges()\n",
    "    nx.draw_networkx_edges(g, pos=pos, alpha=0.1)\n",
    "\n",
    "\n",
    "def draw_nx_graph(g, dynamic_width=False, color_map = None):\n",
    "    plt.figure(figsize=(20,12))\n",
    "    pos = nx.spring_layout(g, seed=1337)\n",
    "    draw_nx_nodes(g, pos, color_map)\n",
    "    draw_nx_edges(g, pos, dynamic_width=dynamic_width)\n",
    "    nx.draw_networkx_labels(g, pos=pos, font_size=10)\n",
    "    \n",
    "class NewsGraph():\n",
    "    def __init__(self, max_time = 20):\n",
    "        self.groups = 40\n",
    "        self.student_label_bias = 0\n",
    "        self.color_map_through_time = []\n",
    "        self.news_interest_coefficient = 0.8\n",
    "        self.student_involvment_coefficient = 0.5\n",
    "        self.time = max_time\n",
    "        self.edge_trace = None\n",
    "        self.node_trace = None\n",
    "        self.computed_time= 10\n",
    "\n",
    "    def create_graph_nodes(self):\n",
    "        self.student_label_bias = 0\n",
    "        self.students_in_each_group = []\n",
    "        for group in range(self.groups):\n",
    "            students_count = np.random.randint(10, 20)\n",
    "            self.students_in_each_group.append(range(self.student_label_bias, self.student_label_bias+students_count))\n",
    "            self.student_label_bias += students_count\n",
    "\n",
    "\n",
    "    def create_edges(self):\n",
    "        self.edges_inside_groups = []\n",
    "        for group in self.students_in_each_group:\n",
    "            edge_count = np.random.randint(4*len(group), 5*len(group))\n",
    "            edges_inside_group = []\n",
    "            for e in range(edge_count):\n",
    "                edge = np.random.choice(group, size=2)\n",
    "                edges_inside_group.append(edge)\n",
    "            self.edges_inside_groups.append(edges_inside_group)\n",
    "        self.edges_between_groups = []\n",
    "        edges_between_groups_count = np.random.randint(100, 150)\n",
    "        self.all_nodes = range(self.student_label_bias)\n",
    "        for e in range(edges_between_groups_count):\n",
    "            edge = np.random.choice(self.all_nodes, size=2)\n",
    "            self.edges_between_groups.append(edge)\n",
    "        self.all_edges = self.edges_between_groups.copy()\n",
    "        for e in self.edges_inside_groups:\n",
    "            self.all_edges.extend(e)\n",
    "\n",
    "    def create_graph(self):\n",
    "        self.G = nx.Graph()\n",
    "        np.random.seed(42)\n",
    "        self.create_graph_nodes()\n",
    "        self.create_edges()\n",
    "\n",
    "        self.G.add_nodes_from(self.all_nodes)\n",
    "        self.G.add_edges_from(self.all_edges)\n",
    "        \n",
    "    def compute_process(self, free = False, random_person_proba=False, k=1):\n",
    "\n",
    "        probability = self.student_involvment_coefficient * self.news_interest_coefficient\n",
    "        start_node = np.random.randint(0, self.student_label_bias-1)\n",
    "\n",
    "        start_nodes = [start_node]\n",
    "        nodes = dict()\n",
    "        used = [0 for node in self.G.nodes()]\n",
    "        cur_t = 0\n",
    "        k = 1\n",
    "        color_map = ['blue' if node != start_node else 'red' for node in self.G]\n",
    "        self.color_map_through_time = [color_map.copy()]\n",
    "        if free:\n",
    "            self.time = self.student_label_bias * 2\n",
    "        while cur_t < self.time and start_nodes != []:\n",
    "            neighbors = []\n",
    "            for start_node in start_nodes: \n",
    "                for neighbor in self.G[start_node].keys():\n",
    "                    if not used[neighbor]:\n",
    "                        neighbors.append(neighbor)\n",
    "                \n",
    "            next_start_nodes = []\n",
    "            for neighbor in neighbors:\n",
    "                if ss.binom.rvs(1, probability):\n",
    "                    next_start_nodes.append(neighbor)\n",
    "                    color_map[neighbor] = 'red'\n",
    "            for start_node in start_nodes: \n",
    "                if start_node in nodes:\n",
    "                    if nodes[start_node] != k:\n",
    "                        nodes[start_node] += 1\n",
    "                        next_start_nodes.append(start_node)\n",
    "                    else:\n",
    "                        used[start_node] = True\n",
    "                else:\n",
    "                    nodes[start_node] = 1\n",
    "            start_nodes = list(set(next_start_nodes)).copy()\n",
    "            self.color_map_through_time.append(color_map.copy())\n",
    "            cur_t += 1\n",
    "        if free:\n",
    "            self.computed_time = cur_t\n",
    "    def render_graph(self,time=10, free=False, message_proba=0.5,person_proba=0.5, k=1):\n",
    "        self.time = time\n",
    "        self.news_interest_coefficient = message_proba\n",
    "        self.student_involvment_coefficient = person_proba\n",
    "        self.compute_process(free=free, k=k)\n"
   ]
  },
  {
   "cell_type": "code",
   "execution_count": 91,
   "metadata": {},
   "outputs": [
    {
     "data": {
      "text/plain": [
       "0"
      ]
     },
     "execution_count": 91,
     "metadata": {},
     "output_type": "execute_result"
    }
   ],
   "source": [
    "ng = NewsGraph()\n",
    "ng.create_graph()\n",
    "ng.render_graph(free=True)\n",
    "ng.computed_time"
   ]
  },
  {
   "cell_type": "code",
   "execution_count": 41,
   "metadata": {},
   "outputs": [
    {
     "data": {
      "text/html": [
       "\n",
       "        <iframe\n",
       "            width=\"100%\"\n",
       "            height=\"650\"\n",
       "            src=\"http://127.0.0.1:8040/\"\n",
       "            frameborder=\"0\"\n",
       "            allowfullscreen\n",
       "        ></iframe>\n",
       "        "
      ],
      "text/plain": [
       "<IPython.lib.display.IFrame at 0x281b3760b20>"
      ]
     },
     "metadata": {},
     "output_type": "display_data"
    }
   ],
   "source": [
    "\n",
    "\n",
    "graphs = []\n",
    "proba_message = [0.5]\n",
    "proba_person = [0.5]\n",
    "def generate_graph(max_time=20):\n",
    "    ng = NewsGraph(max_time)\n",
    "    ng.create_graph()\n",
    "    G = ng.G\n",
    "\n",
    "    pos = nx.spring_layout(G, seed=1337)\n",
    "\n",
    "    edge_x = []\n",
    "    edge_y = []\n",
    "    for edge in G.edges():\n",
    "        x0, y0 = pos[edge[0]]\n",
    "        x1, y1 = pos[edge[1]]\n",
    "        edge_x.append(x0)\n",
    "        edge_x.append(x1)\n",
    "        edge_x.append(None)\n",
    "        edge_y.append(y0)\n",
    "        edge_y.append(y1)\n",
    "        edge_y.append(None)\n",
    "\n",
    "    ng.edge_trace = go.Scatter(\n",
    "        x=edge_x, y=edge_y,\n",
    "        line=dict(width=0.5, color='#888'),\n",
    "        hoverinfo='none',\n",
    "        mode='lines')\n",
    "\n",
    "    node_x = []\n",
    "    node_y = []\n",
    "    for node in G.nodes():\n",
    "        x, y = pos[node]\n",
    "        node_x.append(x)\n",
    "        node_y.append(y)\n",
    "\n",
    "    ng.node_trace = go.Scatter(\n",
    "        x=node_x, y=node_y,\n",
    "        mode='markers',\n",
    "        hoverinfo='text'\n",
    "    )\n",
    "\n",
    "    ng.render_graph(free=True)\n",
    "    node_adjacencies = []\n",
    "    node_text = []\n",
    "    for node, adjacencies in enumerate(G.adjacency()):\n",
    "        node_adjacencies.append(len(adjacencies[1]))\n",
    "        node_text.append('# of connections: '+str(node))\n",
    "\n",
    "    ng.node_trace.marker.color = ng.color_map_through_time[0]\n",
    "    ng.node_trace.text = node_text\n",
    "    graphs.append(ng)\n",
    "\n",
    "    fig = go.Figure(data=[ng.edge_trace, ng.node_trace])\n",
    "    return fig\n",
    "\n",
    "max_frames = 11\n",
    "\n",
    "fig = generate_graph()\n",
    "app = JupyterDash(__name__)\n",
    "app.layout = html.Div([\n",
    "    dcc.Graph(id='graph', figure=fig),\n",
    "    dcc.Slider(\n",
    "        id='slider',\n",
    "        min=1,\n",
    "        max=11,\n",
    "        value=1,\n",
    "        marks={str(step): str(step) for step in range(1, 11)},\n",
    "        step=None\n",
    "    ),\n",
    "    html.H6(\"Change the value in the text box to see callbacks in action!\"),\n",
    "    html.Div([\"Max steps: \",\n",
    "              dcc.Input(id='time_changer', value='11', type='text')]),\n",
    "    html.Div([\"Coefficient of message passing to new person: \",\n",
    "              dcc.Input(id='coef1', value='0.5', type='number')]),\n",
    "    html.Div([\"Coefficient of person pass information to another person: \",\n",
    "              dcc.Input(id='coef2', value='0.5', type='number')]),\n",
    "    html.Br(),\n",
    "    html.Button(id='reset', n_clicks=0, children='Compute max time'),\n",
    "    html.Button(id='rebuild', n_clicks=0, children='New Process'),\n",
    "    html.Button(id='new_params', n_clicks=0, children='Apply parameters'),\n",
    "    html.Div(id='output-state'),\n",
    "    html.Div(id='output-state2'),\n",
    "    html.Div(id='output-state3')\n",
    "\n",
    "\n",
    "])\n",
    "n_clicks_old = [1]\n",
    "\n",
    "@app.callback(Output('graph', 'figure'),\n",
    "                [Input('slider', 'value')],\n",
    "              [Input('rebuild', 'n_clicks')]\n",
    "             )\n",
    "def update_output(step, n_clicks):\n",
    "    ng = graphs[-1]\n",
    "    if n_clicks != n_clicks_old[-1]:\n",
    "        n_clicks_old.append(n_clicks)\n",
    "        ng.render_graph(free=True, message_proba=proba_message[-1], person_proba=proba_person[-1])\n",
    "    step = min(step, len(ng.color_map_through_time))\n",
    "    ng.node_trace.marker.color = ng.color_map_through_time[step-1]\n",
    "    fig = go.Figure(data=[ng.edge_trace, ng.node_trace])\n",
    "    return fig\n",
    "\n",
    "\n",
    "@app.callback(Output('output-state', 'children'),\n",
    "              Output('time_changer', 'value'),\n",
    "              [Input('reset', 'n_clicks')]\n",
    "             )\n",
    "def recompute_max_time(n_clicks):\n",
    "    ng = graphs[-1]\n",
    "    return '', len(ng.color_map_through_time)\n",
    "\n",
    "@app.callback(Output('slider', 'max'),\n",
    "              Output('slider', 'marks'),\n",
    "              [Input('time_changer', 'value')]\n",
    "             )\n",
    "def resize_slider(new_time):\n",
    "    new_time = int(new_time if new_time else 1)\n",
    "    return new_time, {str(step): str(step) for step in range(1, new_time)}\n",
    "\n",
    "\n",
    "@app.callback(Output('output-state2', 'children'),\n",
    "              Input('new_params', 'n_clicks'),\n",
    "              state=[State('coef1', 'value')]\n",
    "             )\n",
    "def reset_message_probability(n_clicks, new_proba):\n",
    "    proba_message.append(float(new_proba))\n",
    "    return ''\n",
    "\n",
    "@app.callback(Output('output-state3', 'children'),\n",
    "              Input('new_params', 'n_clicks'),\n",
    "              state=[State('coef2', 'value')]\n",
    "             )\n",
    "def reset_person_probability(n_clicks, new_proba):\n",
    "    proba_person.append(float(new_proba))\n",
    "    return ''\n",
    "app.run_server(mode='inline',host='127.0.0.1', port=8040, debug=True)"
   ]
  },
  {
   "cell_type": "code",
   "execution_count": 37,
   "metadata": {},
   "outputs": [
    {
     "name": "stderr",
     "output_type": "stream",
     "text": [
      "100%|██████████████████████████████████████████████████████████████████████████████████| 99/99 [02:12<00:00,  1.34s/it]\n"
     ]
    },
    {
     "data": {
      "image/png": "[encoded data removed]",
      "text/plain": [
       "<Figure size 432x288 with 1 Axes>"
      ]
     },
     "metadata": {
      "needs_background": "light"
     },
     "output_type": "display_data"
    }
   ],
   "source": [
    "ng = NewsGraph()\n",
    "ng.create_graph()\n",
    "time_from_message_proba = []\n",
    "for proba in tqdm(np.arange(0.01, 1, 0.01)):\n",
    "    times = []\n",
    "    for i in range(10):\n",
    "        ng.render_graph(free=True, message_proba=proba, k=2)\n",
    "        times.append(ng.computed_time)\n",
    "    time_from_message_proba.append(np.array(times).mean())\n",
    "\n",
    "plt.plot(np.arange(0.01, 1, 0.01), time_from_message_proba)\n",
    "plt.ylabel('Среднее время до окончания распространения новости')\n",
    "plt.xlabel('Коэффициент интересности новости')\n",
    "plt.show()"
   ]
  },
  {
   "cell_type": "code",
   "execution_count": 42,
   "metadata": {},
   "outputs": [
    {
     "name": "stderr",
     "output_type": "stream",
     "text": [
      "100%|██████████████████████████████████████████████████████████████████████████████████| 10/10 [01:43<00:00, 10.39s/it]\n"
     ]
    },
    {
     "data": {
      "text/plain": [
       "Text(0.5, 0, 'Вероятность распространить новость у человека')"
      ]
     },
     "execution_count": 42,
     "metadata": {},
     "output_type": "execute_result"
    },
    {
     "data": {
      "image/png": "[encoded data removed]",
      "text/plain": [
       "<Figure size 432x288 with 1 Axes>"
      ]
     },
     "metadata": {
      "needs_background": "light"
     },
     "output_type": "display_data"
    }
   ],
   "source": [
    "ng = NewsGraph()\n",
    "ng.create_graph()\n",
    "time_from_person_proba = []\n",
    "for k in tqdm(range(10)):\n",
    "    times = []\n",
    "    for i in range(100):\n",
    "        ng.render_graph(free=True, person_proba=0.5, k=k)\n",
    "        \n",
    "        times.append(ng.computed_time)\n",
    "    time_from_person_proba.append(np.array(times).mean())\n",
    "\n",
    "plt.plot(range(10), time_from_person_proba)\n",
    "plt.ylabel('Среднее время до окончания распространения новости')\n",
    "plt.xlabel('Вероятность распространить новость у человека')"
   ]
  },
  {
   "cell_type": "code",
   "execution_count": 44,
   "metadata": {},
   "outputs": [
    {
     "name": "stderr",
     "output_type": "stream",
     "text": [
      "100%|██████████████████████████████████████████████████████████████████████████████████| 99/99 [02:14<00:00,  1.35s/it]\n"
     ]
    },
    {
     "data": {
      "image/png": "[encoded data removed]",
      "text/plain": [
       "<Figure size 432x288 with 1 Axes>"
      ]
     },
     "metadata": {
      "needs_background": "light"
     },
     "output_type": "display_data"
    }
   ],
   "source": [
    "ng = NewsGraph()\n",
    "ng.create_graph()\n",
    "time_from_message_proba = []\n",
    "for proba in tqdm(np.arange(0.01, 1, 0.01)):\n",
    "    times = []\n",
    "    for i in range(10):\n",
    "        ng.render_graph(free=True, message_proba=proba, k=2)\n",
    "        red_nodes_count = sum([1 if node == 'red' else 0 for node in ng.color_map_through_time[-1]])\n",
    "        times.append(red_nodes_count)\n",
    "    time_from_message_proba.append(np.array(times).mean())\n",
    "\n",
    "plt.plot(np.arange(0.01, 1, 0.01), time_from_message_proba)\n",
    "plt.ylabel('Среднее время до окончания распространения новости')\n",
    "plt.xlabel('Коэффициент интересности новости')\n",
    "plt.show()"
   ]
  },
  {
   "cell_type": "code",
   "execution_count": null,
   "metadata": {},
   "outputs": [],
   "source": []
  }
 ],
 "metadata": {
  "kernelspec": {
   "display_name": "Python 3.7.7 64-bit ('tf-gpu': conda)",
   "language": "python",
   "name": "python37764bittfgpuconda738a41f1b74240dfb4dea44407f0c53a"
  },
  "language_info": {
   "codemirror_mode": {
    "name": "ipython",
    "version": 3
   },
   "file_extension": ".py",
   "mimetype": "text/x-python",
   "name": "python",
   "nbconvert_exporter": "python",
   "pygments_lexer": "ipython3",
   "version": "3.8.3"
  }
 },
 "nbformat": 4,
 "nbformat_minor": 4
}
